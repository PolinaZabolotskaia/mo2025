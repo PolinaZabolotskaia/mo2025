{
  "nbformat": 4,
  "nbformat_minor": 0,
  "metadata": {
    "colab": {
      "provenance": []
    },
    "kernelspec": {
      "name": "python3",
      "display_name": "Python 3"
    },
    "language_info": {
      "name": "python"
    }
  },
  "cells": [
    {
      "cell_type": "markdown",
      "source": [
        "# 01 Основы языка Python\n",
        "\n",
        "Рассмотрим принципы работы с языком, арифметические операции, вывод на экран."
      ],
      "metadata": {
        "id": "UmwDdclJn3cu"
      }
    },
    {
      "cell_type": "markdown",
      "source": [
        "# 1. Очень простые «программы»\n",
        "## 1.1 Запуск Python из командной строки\n",
        "Чтобы выполнить фрагменты кода, мы можем запустить Python из командной строки. В этом блокноте Jupyter мы собираемся смоделировать это. Вы можете вводить команды в поля и выполнять их.\n",
        "В поле введите:\n",
        "\n",
        "`print('Hello, World')`\n",
        "\n",
        "Затем нажмите `<shift> + <return>`, чтобы выполнить команду.\n"
      ],
      "metadata": {
        "id": "wgpOvqwkoL5e"
      }
    },
    {
      "cell_type": "code",
      "source": [
        "print('Hello, World')"
      ],
      "metadata": {
        "id": "z0wbzCSmpYvy",
        "colab": {
          "base_uri": "https://localhost:8080/"
        },
        "outputId": "4814b7b5-618b-4eec-b096-fb1b12c74317"
      },
      "execution_count": 1,
      "outputs": [
        {
          "output_type": "stream",
          "name": "stdout",
          "text": [
            "Hello, World\n"
          ]
        }
      ]
    },
    {
      "cell_type": "markdown",
      "source": [
        "Что случилось?\n",
        "\n",
        "Вы только что создали программу, которая печатает слова «Hello, World». Среда Python, в которой вы находитесь, немедленно компилирует все, что вы ввели. Это называется интерпретатор языка."
      ],
      "metadata": {
        "id": "pVvtH_sipaLe"
      }
    },
    {
      "cell_type": "markdown",
      "source": [
        "## 1.2 Математика в Python\n",
        "Наберите в ячейке\n",
        "`1 + 1`\n",
        "и выполните код. (см. п. 1.1.)"
      ],
      "metadata": {
        "id": "n2foxPN2pwr0"
      }
    },
    {
      "cell_type": "code",
      "source": [
        "1+1"
      ],
      "metadata": {
        "id": "qb6kPz8Ap6BI",
        "colab": {
          "base_uri": "https://localhost:8080/"
        },
        "outputId": "11668491-3ed5-4a88-99e7-031a13a796d9"
      },
      "execution_count": 2,
      "outputs": [
        {
          "output_type": "execute_result",
          "data": {
            "text/plain": [
              "2"
            ]
          },
          "metadata": {},
          "execution_count": 2
        }
      ]
    },
    {
      "cell_type": "markdown",
      "source": [
        "Теперь введите\n",
        "\n",
        "`20 + 80`\n",
        "\n",
        "выполните код."
      ],
      "metadata": {
        "id": "yBbIQd6tp-HV"
      }
    },
    {
      "cell_type": "code",
      "source": [
        "20+80"
      ],
      "metadata": {
        "id": "3zaVgKUVqD_H",
        "colab": {
          "base_uri": "https://localhost:8080/"
        },
        "outputId": "a7ff11d8-78d7-4023-e735-09a85ce4e10f"
      },
      "execution_count": 3,
      "outputs": [
        {
          "output_type": "execute_result",
          "data": {
            "text/plain": [
              "100"
            ]
          },
          "metadata": {},
          "execution_count": 3
        }
      ]
    },
    {
      "cell_type": "markdown",
      "source": [
        "Попробуйте и другие операции\n",
        "\n",
        "`+` сложение\n",
        "\n",
        "`-` вычитание\n",
        "\n",
        "`*` умножение\n",
        "\n",
        "`/` деление\n"
      ],
      "metadata": {
        "id": "LIIUHqIVqKOk"
      }
    },
    {
      "cell_type": "code",
      "source": [
        "1750/5"
      ],
      "metadata": {
        "id": "OfJF_qwvqaGk",
        "colab": {
          "base_uri": "https://localhost:8080/"
        },
        "outputId": "042d7ec9-6b07-415f-b2ad-f81cc31a208c"
      },
      "execution_count": 4,
      "outputs": [
        {
          "output_type": "execute_result",
          "data": {
            "text/plain": [
              "350.0"
            ]
          },
          "metadata": {},
          "execution_count": 4
        }
      ]
    },
    {
      "cell_type": "markdown",
      "source": [
        "Существует операция возведения в степень: $5^2 = $ `5 ** 2`. Попробуйте вычислить в строке ниже."
      ],
      "metadata": {
        "id": "tN5dNWDqqdJk"
      }
    },
    {
      "cell_type": "code",
      "source": [
        "5**3"
      ],
      "metadata": {
        "id": "6ebTTVCGsNBc",
        "colab": {
          "base_uri": "https://localhost:8080/"
        },
        "outputId": "95b29860-9d9d-4483-f68e-eef11fbed01e"
      },
      "execution_count": 5,
      "outputs": [
        {
          "output_type": "execute_result",
          "data": {
            "text/plain": [
              "125"
            ]
          },
          "metadata": {},
          "execution_count": 5
        }
      ]
    },
    {
      "cell_type": "markdown",
      "source": [
        "Операции деления с остатком:\n",
        "\n",
        "// - целая часть от деления\n",
        "\n",
        "% - остаток от деления\n",
        "\n",
        "Посчитайте `7//3`, `11%4`"
      ],
      "metadata": {
        "id": "vGRu1tkXsRjs"
      }
    },
    {
      "cell_type": "code",
      "source": [
        "7//3, 11%4"
      ],
      "metadata": {
        "id": "bkanXxZEshbg",
        "colab": {
          "base_uri": "https://localhost:8080/"
        },
        "outputId": "a76b7b80-ae60-4b2c-8e3c-3cd887c8a313"
      },
      "execution_count": 6,
      "outputs": [
        {
          "output_type": "execute_result",
          "data": {
            "text/plain": [
              "(2, 3)"
            ]
          },
          "metadata": {},
          "execution_count": 6
        }
      ]
    },
    {
      "cell_type": "markdown",
      "source": [
        "## 1.3 print - вывод на экран\n",
        "\n",
        "Рассмотрим синтаксис этой функции. Самый простой пример:\n",
        "\n",
        "`print()`\n",
        "\n",
        "Даже если функция не получает никаких аргументов, все равно необходимо вставлять после названия пустые скобки, что значит для интерпретатора выполнить функцию, а не просто ссылаться на нее.\n",
        "\n",
        "В результате этого будет выведен неотображаемый символ пустой строки, она появиться на экране, не нужно путать это с пустой строкой, в которой вообще нет никаких символов.\n",
        "\n",
        "Но чаще всего нужно передать какое-то сообщение пользователю, к примеру:\n",
        "\n",
        "`print('Your message here')`"
      ],
      "metadata": {
        "id": "weOILto5szgr"
      }
    },
    {
      "cell_type": "markdown",
      "source": [
        "Следующий пример – вывод строкового значения из переменной:\n",
        "\n",
        "`message = 'Hello world'`\n",
        "\n",
        "`print(message)`\n",
        "\n"
      ],
      "metadata": {
        "id": "sqZYUcNPttGS"
      }
    },
    {
      "cell_type": "code",
      "source": [
        "message = 'Hello world'\n",
        "\n",
        "print(message)"
      ],
      "metadata": {
        "id": "vbv8gWj4tz0c",
        "colab": {
          "base_uri": "https://localhost:8080/"
        },
        "outputId": "7a0fcf8d-b5bc-407a-df48-6d54da6da54e"
      },
      "execution_count": 7,
      "outputs": [
        {
          "output_type": "stream",
          "name": "stdout",
          "text": [
            "Hello world\n"
          ]
        }
      ]
    },
    {
      "cell_type": "markdown",
      "source": [
        "Выведем разные типы данных:\n",
        "\n",
        "\n",
        "```\n",
        "print('one', 'two', 'three')  # str\n",
        "\n",
        "print(42)  # int\n",
        "\n",
        "print(3.14)  # float\n",
        "\n",
        "print(True)  # bool\n",
        "\n",
        "print([1, 2, 3])  # list\n",
        "\n",
        "print({'red', 'green', 'blue'})  # set\n",
        "\n",
        "print({'name': 'Alice', 'age': 42})  # dict\n",
        "\n",
        "print((1, 2, 3))  # tuple\n",
        "```\n",
        "\n"
      ],
      "metadata": {
        "id": "gT_yQuUst0zq"
      }
    },
    {
      "cell_type": "code",
      "source": [
        "print('one', 'two', 'three')  # str\n",
        "\n",
        "print(42)  # int\n",
        "\n",
        "print(3.14)  # float\n",
        "\n",
        "print(True)  # bool\n",
        "\n",
        "print([1, 2, 3])  # list\n",
        "\n",
        "print({'red', 'green', 'blue'})  # set\n",
        "\n",
        "print({'name': 'Alice', 'age': 42})  # dict\n",
        "\n",
        "print((1, 2, 3))  # tuple\n"
      ],
      "metadata": {
        "id": "VB1sC6YRuFJS",
        "colab": {
          "base_uri": "https://localhost:8080/"
        },
        "outputId": "d7505561-aca8-455a-b32e-8fdf855e284a"
      },
      "execution_count": 8,
      "outputs": [
        {
          "output_type": "stream",
          "name": "stdout",
          "text": [
            "one two three\n",
            "42\n",
            "3.14\n",
            "True\n",
            "[1, 2, 3]\n",
            "{'red', 'green', 'blue'}\n",
            "{'name': 'Alice', 'age': 42}\n",
            "(1, 2, 3)\n"
          ]
        }
      ]
    },
    {
      "cell_type": "markdown",
      "source": [
        "Вы также можете распечатать переменные, просто разделив их запятыми\n",
        "```\n",
        "name = \"Аделаида\"\n",
        "print(\"Привет\", name, \"как дела?\")\n",
        "```\n"
      ],
      "metadata": {
        "id": "7YsoJe3suU9r"
      }
    },
    {
      "cell_type": "code",
      "source": [
        "name = \"Аделаида\"\n",
        "print(\"Привет\", name, \"как дела?\")"
      ],
      "metadata": {
        "id": "k76loudFucn6",
        "colab": {
          "base_uri": "https://localhost:8080/"
        },
        "outputId": "71c956f9-a8d2-4ee0-a97b-82e74eb35f65"
      },
      "execution_count": 9,
      "outputs": [
        {
          "output_type": "stream",
          "name": "stdout",
          "text": [
            "Привет Аделаида как дела?\n"
          ]
        }
      ]
    },
    {
      "cell_type": "markdown",
      "source": [
        "#1.4 Комментарии\n",
        "\n",
        "Комментарий это строка кода, которая не выполняется. Служит для разных пояснений. Выполните следующий код:\n",
        "\n",
        "`# I am a comment. Fear my wrath!`"
      ],
      "metadata": {
        "id": "kjmRYTQNuivr"
      }
    },
    {
      "cell_type": "code",
      "source": [
        "# I am a comment. Fear my wrath!"
      ],
      "metadata": {
        "id": "C9EWkEs5u1tv"
      },
      "execution_count": 10,
      "outputs": []
    },
    {
      "cell_type": "markdown",
      "source": [
        "Комментарий — это фрагмент кода, который не запускается. В Python вы добавляете комментарий, помещая перед ним #. # комментирует все, что находится после него в строке, и ничего перед ним. Попробуйте:\n",
        "\n",
        "`print(\"food is very nice\") #eat me`"
      ],
      "metadata": {
        "id": "G_A2uNGVu6Br"
      }
    },
    {
      "cell_type": "code",
      "source": [
        "print(\"food is very nice\") #eat me"
      ],
      "metadata": {
        "id": "vCMZWgm1vCzd",
        "colab": {
          "base_uri": "https://localhost:8080/"
        },
        "outputId": "5640124d-ae53-4700-a2a0-837e5b61f633"
      },
      "execution_count": 11,
      "outputs": [
        {
          "output_type": "stream",
          "name": "stdout",
          "text": [
            "food is very nice\n"
          ]
        }
      ]
    },
    {
      "cell_type": "markdown",
      "source": [
        "# 1.5 Приоритет операций\n",
        "\n",
        "Помните ту штуку, которую учили на уроках математики, под названием \"порядок действий\"? Что ж, это применимо и к Python. Вот оно, если вам нужно напомнить:\n",
        "\n",
        "1. Круглые скобки()\n",
        "2. Возведение в степень **\n",
        "3. Умножение *, деление / и остаток %\n",
        "4. Сложение + и вычитание -\n",
        "\n",
        "Вот несколько примеров, которые вы можете попробовать:\n",
        "```\n",
        "1 + 2 * 3\n",
        "(1 + 2) * 3\n",
        "```"
      ],
      "metadata": {
        "id": "_vftrmAdxaQS"
      }
    },
    {
      "cell_type": "code",
      "source": [
        "1 + 2 * 3\n",
        "(1 + 2) * 3\n"
      ],
      "metadata": {
        "id": "s8ZhSbiKxwDa",
        "colab": {
          "base_uri": "https://localhost:8080/"
        },
        "outputId": "5191861b-89ab-409f-b51a-c5ecbde5c808"
      },
      "execution_count": 12,
      "outputs": [
        {
          "output_type": "execute_result",
          "data": {
            "text/plain": [
              "9"
            ]
          },
          "metadata": {},
          "execution_count": 12
        }
      ]
    },
    {
      "cell_type": "markdown",
      "source": [
        "# Задание 1\n",
        "\n",
        "Используя оператор print выведите на экран небольшой рассказ о себе. Должно быть использовано не менее 8 операторов print.\n",
        "\n",
        "Пример:\n",
        "\n",
        "```\n",
        "print('Привет всем! Меня зовут Аристотель.')\n",
        "print(\"Я родился в городе Стагире, греческой колонии в Халкидиках, недалеко от Афонской горы, между июлем и октябрём в первый год \",99,\" олимпиады.\" )\n",
        "print('Я люблю всякие науки, например философию.')\n",
        "print(\"Долгими зиминими вечерами я обычно размышляю о физике.\", \"А потом о метафизике.\")\n",
        "```"
      ],
      "metadata": {
        "id": "mC6vwG0Bvckz"
      }
    },
    {
      "cell_type": "code",
      "source": [
        "print('Всем привет! Меня зовут Полина.')\n",
        "print(\"Я родилась в городе Смоленск, он находится в 4 часах езды от Москвы на машине или поезде.\" )\n",
        "print('Я учусь на факультете журналистики МГУ.')\n",
        "print(\" У меня есть собака Ричард, но он живет в Смоленске с родителями.\")\n",
        "print('А в Москве у меня живут 2 морские свинки.')\n",
        "print('Полгода я жила в Сиднее, так как училась там в университете.')\n",
        "print('Я диджей, люблю техно.')\n",
        "print('Я здесь изучаю язык Python.')"
      ],
      "metadata": {
        "id": "HcESMxCWw3P9",
        "colab": {
          "base_uri": "https://localhost:8080/"
        },
        "outputId": "17ccc59b-487f-45c2-dcee-5e4627c02ce2"
      },
      "execution_count": 14,
      "outputs": [
        {
          "output_type": "stream",
          "name": "stdout",
          "text": [
            "Всем привет! Меня зовут Полина.\n",
            "Я родилась в городе Смоленск, он находится в 4 часах езды от Москвы на машине или поезде.\n",
            "Я учусь на факультете журналистики МГУ.\n",
            " У меня есть собака Ричард, но он живет в Смоленске с родителями.\n",
            "А в Москве у меня живут 2 морские свинки.\n",
            "Полгода я жила в Сиднее, так как училась там в университете.\n",
            "Я диджей, люблю техно.\n",
            "Я здесь изучаю язык Python.\n"
          ]
        }
      ]
    },
    {
      "cell_type": "code",
      "source": [],
      "metadata": {
        "id": "fFetMRlku8ss"
      },
      "execution_count": null,
      "outputs": []
    },
    {
      "cell_type": "markdown",
      "source": [
        "# Задание 2\n",
        "\n",
        "Карандаш стоит 18 рублей 45 копеек за штуку. Покупатель дал кассиру 500 рублей и хочет купить 8 карандашей. Какую сдачу он должен получить? Ответ дайте в рублях.\n"
      ],
      "metadata": {
        "id": "znJt3O_Qw7iU"
      }
    },
    {
      "cell_type": "code",
      "source": [
        "\n",
        "# Стоимость одного карандаша в рублях\n",
        "price_per_pencil = 18 + 45 / 100  # 18 рублей 45 копеек\n",
        "\n",
        "# Количество карандашей\n",
        "quantity = 8\n",
        "\n",
        "# Общая стоимость карандашей\n",
        "total_cost = price_per_pencil * quantity\n",
        "\n",
        "# Сумма, которую дал покупатель\n",
        "amount_given = 500\n",
        "\n",
        "# Сдача\n",
        "change = amount_given - total_cost\n",
        "\n",
        "# Вывод результата\n",
        "print(f\"Сдача: {change:.2f} рублей\")\n",
        "\n",
        "\n",
        "\n"
      ],
      "metadata": {
        "id": "9l0cDUqrz6zt",
        "colab": {
          "base_uri": "https://localhost:8080/"
        },
        "outputId": "d01b1610-41d4-44b2-98ad-098c028af630"
      },
      "execution_count": 18,
      "outputs": [
        {
          "output_type": "stream",
          "name": "stdout",
          "text": [
            "Сдача: 352.40 рублей\n"
          ]
        }
      ]
    },
    {
      "cell_type": "markdown",
      "source": [
        "# Задание 3\n",
        "\n",
        "Ребенок в день съедает два творожка. Творожок продается в упаковках по пять штук. Какое наименьшее число упаковок надо купить, чтобы ребенку хватило на две недели?"
      ],
      "metadata": {
        "id": "zY4uh9scz7SE"
      }
    },
    {
      "cell_type": "code",
      "source": [
        "# Сколько творожков в день съедает ребенок\n",
        "products_per_day = 2\n",
        "\n",
        "# Сколько упаковок творрожка продается\n",
        "products_in_package = 5\n",
        "\n",
        "# Сколько времени нужно есть\n",
        "days = 14\n",
        "\n",
        "# Общее количество творожков, необходимых за две недели\n",
        "total_needed = products_per_day * days\n",
        "\n",
        "# Наименьшее количество упаковок, которое нужно купить\n",
        "min_packages_needed = (total_needed // products_in_package)\n",
        "\n",
        "# Вывод результата\n",
        "print(f\"{min_packages_needed+1}\")\n",
        "\n",
        "\n"
      ],
      "metadata": {
        "id": "AwZoZRdG0Biv",
        "colab": {
          "base_uri": "https://localhost:8080/"
        },
        "outputId": "e64d1303-5a7c-4b11-8b16-6a961588c4cd"
      },
      "execution_count": 24,
      "outputs": [
        {
          "output_type": "stream",
          "name": "stdout",
          "text": [
            "6\n"
          ]
        }
      ]
    },
    {
      "cell_type": "markdown",
      "source": [
        "# Задание 4\n",
        "\n",
        "Килограмм картошки 32 рубля. У Олега есть 1000 р, из этой суммы он 640 р должен положить на телефон, а на остальные деньги он купил картошку. Сколько килограмм купил Олег, если он получил сдачу 8 рублей?"
      ],
      "metadata": {
        "id": "AdFd5gbK0CeE"
      }
    },
    {
      "cell_type": "code",
      "source": [
        "total_money = 1000  # Общая сумма денег\n",
        "phone_expense = 640  # Сумма на телефон\n",
        "change_received = 8  # Сдача\n",
        "price_per_kg = 32  # Цена за килограмм картошки\n",
        "\n",
        "# Расчеты\n",
        "remaining_money = total_money - phone_expense + change_received # Остаток после оплаты телефона\n",
        "\n",
        "# Количество килограммов картошки\n",
        "kg_of_potatoes = remaining_money / price_per_kg\n",
        "\n",
        "print(f\"Олег купил {kg_of_potatoes} килограммов картошки.\")\n"
      ],
      "metadata": {
        "id": "23ot9WQT0Jc_",
        "colab": {
          "base_uri": "https://localhost:8080/"
        },
        "outputId": "7c0751fd-563c-4fef-b682-b117e2b9c557"
      },
      "execution_count": 28,
      "outputs": [
        {
          "output_type": "stream",
          "name": "stdout",
          "text": [
            "Олег купил 11.5 килограммов картошки.\n"
          ]
        }
      ]
    },
    {
      "cell_type": "code",
      "source": [],
      "metadata": {
        "id": "9ZSw3Reo7Aih"
      },
      "execution_count": null,
      "outputs": []
    }
  ]
}